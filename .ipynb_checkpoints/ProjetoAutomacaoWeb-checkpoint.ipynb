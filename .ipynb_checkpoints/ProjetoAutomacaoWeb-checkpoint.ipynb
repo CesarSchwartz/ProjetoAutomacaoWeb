{
 "cells": [
  {
   "cell_type": "markdown",
   "id": "1bcd1667",
   "metadata": {},
   "source": [
    "### 1 - Importando Bibliotecas."
   ]
  },
  {
   "cell_type": "code",
   "execution_count": 49,
   "id": "c45508ae",
   "metadata": {},
   "outputs": [
    {
     "name": "stderr",
     "output_type": "stream",
     "text": [
      "\n",
      "\n",
      "====== WebDriver manager ======\n",
      "Current google-chrome version is 104.0.5112\n",
      "Get LATEST chromedriver version for 104.0.5112 google-chrome\n",
      "Driver [C:\\Users\\cesar\\.wdm\\drivers\\chromedriver\\win32\\104.0.5112.79\\chromedriver.exe] found in cache\n"
     ]
    }
   ],
   "source": [
    "# 1 Primeiro criar um navegador\n",
    "from selenium import webdriver\n",
    "from selenium.webdriver.chrome.service import Service\n",
    "from webdriver_manager.chrome import ChromeDriverManager\n",
    "from selenium.webdriver.common.by import By\n",
    "from selenium.webdriver.common.keys import Keys\n",
    "import win32com.client as win32\n",
    "import time\n",
    "from selenium.webdriver.support.ui import WebDriverWait\n",
    "from selenium.webdriver.support import expected_conditions as EC"
   ]
  },
  {
   "cell_type": "markdown",
   "id": "67c9fa04",
   "metadata": {},
   "source": [
    "### 2 - Iniciando Selenium e Importando o Arquivo de Produtos."
   ]
  },
  {
   "cell_type": "code",
   "execution_count": null,
   "id": "67ffe2b4",
   "metadata": {},
   "outputs": [],
   "source": [
    "# INICIANDO O SELENIUM\n",
    "servico = Service(ChromeDriverManager().install())\n",
    "navegador = webdriver.Chrome(service=servico)\n",
    "\n",
    "# IMPORTAR A BASE DE DADOS\n",
    "import pandas as pd\n",
    "produtos = pd.read_excel('buscas.xlsx')"
   ]
  },
  {
   "cell_type": "markdown",
   "id": "1f6c052c",
   "metadata": {},
   "source": [
    "### 3 - Função Busca Google Shoping."
   ]
  },
  {
   "cell_type": "code",
   "execution_count": 50,
   "id": "3d290fab",
   "metadata": {},
   "outputs": [],
   "source": [
    "# FUÇÃO DE BUSCA GOOGLE SHOPING\n",
    "def buscar_google_shoping(navegador, produto, termo_banido, valor_min, valor_max):\n",
    "    \n",
    "    ''' \n",
    "    A funçao deve receber 5 parametros sendo eles:\n",
    "    navegador: (selenium.webdriver)\n",
    "    produto: (nome do produto que voce quer fazer a busca)\n",
    "    termo_banido: (as palavras chaves que serao usadas como filtro na buscar\n",
    "    para nao pegar os produtos com aquela caracteristicas)\n",
    "    valor_min: (o valor minimo do produto que deseja)\n",
    "    valor_max: (o valor maximo do produto que deseja)\n",
    "\n",
    "    '''\n",
    "    #tratando dados\n",
    "    produto = produto.casefold()\n",
    "    produto = produto.strip()\n",
    "    termo_banido = termo_banido.casefold()\n",
    "    termo_banido = termo_banido.strip()\n",
    "    lista_termo_banido = termo_banido.split(' ')\n",
    "    lista_termo = produto.split(' ')\n",
    "    valor_min = float(valor_min)\n",
    "    valor_max = float(valor_max)\n",
    "    \n",
    "    #entrando no navegador\n",
    "    navegador.get('https://www.google.com.br/')\n",
    "    navegador.find_element(By.XPATH, '/html/body/div[1]/div[3]/form/div[1]/div[1]/div[1]/div/div[2]/input').send_keys(produto)\n",
    "    navegador.find_element(By.XPATH, '/html/body/div[1]/div[3]/form/div[1]/div[1]/div[3]/center/input[1]').click()\n",
    "    # 3 ENTRAR NO GOOGLE SHOOPING\n",
    "    navegador.find_element(By.XPATH, '//*[@id=\"hdtb-msb\"]/div[1]/div/div[2]/a').click()\n",
    "    time.sleep(3)\n",
    "    \n",
    "    #pegar os produtos e tratar\n",
    "    lista_promocoes = []\n",
    "    lista_produtos = navegador.find_elements(By.CLASS_NAME, 'i0X6df')\n",
    "    for produto in lista_produtos:\n",
    "        nome = produto.find_element(By.CLASS_NAME,'Xjkr3b').text\n",
    "        nome = nome.casefold()\n",
    "        \n",
    "        # verificando termos banidos\n",
    "        tem_termo_banido = False\n",
    "        for banido in lista_termo_banido:\n",
    "            if banido in nome:\n",
    "                tem_termo_banido = True\n",
    "\n",
    "        #tem todos os termos\n",
    "        tem_todos_termo = True\n",
    "        for termo in lista_termo:\n",
    "            if not termo in nome:\n",
    "                tem_todos_termo = False\n",
    "\n",
    "        if not tem_termo_banido and tem_todos_termo:\n",
    "            try:\n",
    "\n",
    "                preco = produto.find_element(By.CLASS_NAME, 'a8Pemb').text\n",
    "                preco = preco.upper()\n",
    "                preco = preco.replace('R$', '').replace('.', '').replace(',', '.')\n",
    "                preco = preco.strip()\n",
    "                preco = float(preco)\n",
    "                if valor_min <= preco <= valor_max:\n",
    "                    elemento_link = produto.find_element(By.CLASS_NAME, 'KoNVE')\n",
    "                    elemento_pai = elemento_link.find_element(By.XPATH, '..')\n",
    "                    link = elemento_pai.get_attribute('href')\n",
    "                    lista_promocoes.append((nome, preco, link))\n",
    "            except:\n",
    "                continue\n",
    "    return lista_promocoes"
   ]
  },
  {
   "cell_type": "markdown",
   "id": "9d186c5f",
   "metadata": {},
   "source": [
    "### 4 - Função Busca Buscapé."
   ]
  },
  {
   "cell_type": "code",
   "execution_count": 51,
   "id": "cd1dd4cd",
   "metadata": {},
   "outputs": [],
   "source": [
    "#buscape\n",
    "def busca_preco_buscape(navegador, produto, termo_banido, valor_min, valor_max):\n",
    "    ''' \n",
    "    A funçao deve receber 5 parametros sendo eles:\n",
    "    navegador: (selenium.webdriver)\n",
    "    produto: (nome do produto que voce quer fazer a busca)\n",
    "    termo_banido: (as palavras chaves que serao usadas como filtro na buscar\n",
    "    para nao pegar os produtos com aquela caracteristicas)\n",
    "    valor_min: (o valor minimo do produto que deseja)\n",
    "    valor_max: (o valor maximo do produto que deseja)\n",
    "\n",
    "    '''\n",
    "    produto = produto.casefold()\n",
    "    produto = produto.strip()\n",
    "    termo_banido = termo_banido.casefold()\n",
    "    termo_banido = termo_banido.strip()\n",
    "    lista_termo_banido = termo_banido.split(' ')\n",
    "    lista_termo = produto.split(' ')\n",
    "    valor_min = float(valor_min)\n",
    "    valor_max = float(valor_max)\n",
    "\n",
    "    #entrando buscape\n",
    "    time.sleep(1)\n",
    "    navegador.get('https://www.buscape.com.br')\n",
    "    webwait = WebDriverWait(navegador, 3)\n",
    "    while True:\n",
    "        try:  \n",
    "            webwait.until(EC.presence_of_element_located((By.ID, \"popup-plugin-extension-close-button-midia\"))).click()\n",
    "        except:\n",
    "            break\n",
    "    \n",
    "    \n",
    "    navegador.find_element(By.XPATH, '//*[@id=\"new-header\"]/div[1]/div/div/div[3]/div/div/div/div/div[1]/input').send_keys(produto, Keys.ENTER)\n",
    "    time.sleep(5)\n",
    "    #pegando e tratando os dados\n",
    "    lista_produtos = navegador.find_elements(By.CLASS_NAME, 'Cell_Content__fT5st')\n",
    "    lista_promoco = []\n",
    "    for produto in lista_produtos:\n",
    "        nome = produto.get_attribute('title')\n",
    "        nome = nome.lower()\n",
    "        link = produto.get_attribute('href')\n",
    "        try:\n",
    "            preco = produto.find_element(By.CLASS_NAME, 'CellPrice_MainValue__JXsj_').text\n",
    "            preco = preco.upper()\n",
    "            preco = preco.replace('R$', '').replace('.', '').replace(',', '.')\n",
    "            preco = preco.strip()\n",
    "            preco = float(preco)\n",
    "        except:\n",
    "            continue\n",
    "\n",
    "        # verificando termos banidos\n",
    "        tem_termo_banido = False\n",
    "        for banido in lista_termo_banido:\n",
    "            if banido in nome:\n",
    "                tem_termo_banido = True\n",
    "\n",
    "\n",
    "\n",
    "        #tem todos os termos\n",
    "        tem_todos_termo = True\n",
    "        for termo in lista_termo:\n",
    "            if not termo in nome:\n",
    "                tem_todos_termo = False\n",
    "\n",
    "        if not tem_termo_banido and tem_todos_termo:\n",
    "                if valor_min <= preco <= valor_max:\n",
    "                    lista_promoco.append((nome, preco, link))\n",
    "    return lista_promoco"
   ]
  },
  {
   "cell_type": "markdown",
   "id": "233e258e",
   "metadata": {},
   "source": [
    "### 5 - Automatizando o Processo de Busca De Todos os Produtos do Arquivo. "
   ]
  },
  {
   "cell_type": "code",
   "execution_count": 52,
   "id": "fac4d2c9",
   "metadata": {},
   "outputs": [],
   "source": [
    "# automatizando tudo\n",
    "lista_ofertas = pd.DataFrame()\n",
    "for linha in produtos.index:\n",
    "    produto = produtos.loc[linha, 'Nome']\n",
    "    term_banido = produtos.loc[linha, 'Termos banidos']\n",
    "    preco_min = produtos.loc[linha, 'Preço mínimo']\n",
    "    preco_max = produtos.loc[linha, 'Preço máximo']\n",
    "    busca_google_shoop = buscar_google_shoping(navegador, produto, term_banido, preco_min, preco_max)\n",
    "    if busca_google_shoop:\n",
    "        google_shoopingdf = pd.DataFrame(busca_google_shoop, columns=['NOME', 'VALOR', 'LINK'])\n",
    "        lista_ofertas = lista_ofertas.append(google_shoopingdf)\n",
    "    else:\n",
    "        google_shoopingdf = None\n",
    "    busca_buscape = busca_preco_buscape(navegador, produto, term_banido, preco_min, preco_max)\n",
    "    if busca_buscape:\n",
    "        buscape_df = pd.DataFrame(busca_buscape, columns=['NOME', 'VALOR', 'LINK'])\n",
    "        lista_ofertas = lista_ofertas.append(buscape_df)\n",
    "    else:\n",
    "        buscape_df = None\n",
    "\n",
    "navegador.quit()"
   ]
  },
  {
   "cell_type": "markdown",
   "id": "5c8d940c",
   "metadata": {},
   "source": [
    "### 6 - Criando Arquivo Com Todas as Ofertas Encontradas. "
   ]
  },
  {
   "cell_type": "code",
   "execution_count": 53,
   "id": "7e06fcbe",
   "metadata": {},
   "outputs": [],
   "source": [
    "lista_ofertas.to_excel('todas as ofertas.xlsx')"
   ]
  },
  {
   "cell_type": "markdown",
   "id": "a089f1a6",
   "metadata": {},
   "source": [
    "### 7 - Criando e Enviando o E-mail com o Arquivo de Ofertas."
   ]
  },
  {
   "cell_type": "code",
   "execution_count": 54,
   "id": "62ae65a9",
   "metadata": {},
   "outputs": [],
   "source": [
    "#enviar gmail GOOGLE SHOPING\n",
    "if len(lista_ofertas.index) > 0:\n",
    "    outlook = win32.Dispatch('outlook.application')\n",
    "    mail = outlook.CreateItem(0)\n",
    "    mail.To = 'schwartzcesarevictorgames@gmail.com'\n",
    "    mail.Subject = 'OFERTAS PRODUTOS GOOGLE SHOPING'\n",
    "    mail.HTMLBody = '''\n",
    "    <p>prezados, venho trazer atraves desse Gmail a tabela de produtos,</p>\n",
    "    <r><b>todos os produtos esta na faxa de preço solicitada.</b></r>\n",
    "    <br>\n",
    "    <br>\n",
    "    <br>\n",
    "    <p><b>Baixe o anexo pra vizualizar a tabela.</b></p>\n",
    "    '''\n",
    "    anexos = r'C:\\Users\\cesar\\OneDrive\\Área de Trabalho\\PYTHON IMPRESSIONADOR\\PROJETO 2 AUTOMAÇAO WEB\\todas as ofertas.xlsx'\n",
    "    mail.Attachments.Add(anexos)\n",
    "    mail.Send()"
   ]
  }
 ],
 "metadata": {
  "kernelspec": {
   "display_name": "Python 3 (ipykernel)",
   "language": "python",
   "name": "python3"
  },
  "language_info": {
   "codemirror_mode": {
    "name": "ipython",
    "version": 3
   },
   "file_extension": ".py",
   "mimetype": "text/x-python",
   "name": "python",
   "nbconvert_exporter": "python",
   "pygments_lexer": "ipython3",
   "version": "3.9.7"
  }
 },
 "nbformat": 4,
 "nbformat_minor": 5
}
